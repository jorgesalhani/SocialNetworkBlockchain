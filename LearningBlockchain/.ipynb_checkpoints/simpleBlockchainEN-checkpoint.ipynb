{
 "cells": [
  {
   "cell_type": "markdown",
   "metadata": {},
   "source": [
    "# Creating a simple blockchain\n",
    "\n",
    "## Project from \"Special Topics on Computer Systems\"\n",
    "\n",
    "\n",
    "Following the tutorial available at: https://levelup.gitconnected.com/creating-a-blockchain-from-scratch-9a7b123e1f3e"
   ]
  },
  {
   "cell_type": "markdown",
   "metadata": {},
   "source": [
    "To understand the overall behavior of a simple blockchain, consider the blockchain as a database. For instance, we can think that in a:\n",
    "- Form: we want to store some data we are providing and retrieve them when needed;\n",
    "- Blog: like the form, we want the data to be provided, stored and retrieved when desired;\n",
    "- Store: as a transaction medium, we want to share data (the product itself, its available amount and price) and want to retrieve the buyer's payment and address to send the product;\n",
    "\n",
    "With that said, consider the blocks (the components of a blockchain) as container objects we directly manage: the data provided (product ID, availability and price, if considering a store) and a timestamp, for instance. Lastly, it must contain the cryptographic label of the block it will be attached to in order to assure security."
   ]
  },
  {
   "cell_type": "code",
   "execution_count": 1,
   "metadata": {},
   "outputs": [],
   "source": [
    "from datetime import datetime\n",
    "import hashlib"
   ]
  },
  {
   "cell_type": "code",
   "execution_count": null,
   "metadata": {},
   "outputs": [],
   "source": [
    "class UserEvaluationBlock():\n",
    "     def __init__(self, data, previous_block_hash, user_public_key, evaluation):\n",
    "        \n",
    "        # reserve the time stamp when the block is required to be created\n",
    "        self.timestamp = datetime.utcnow()\n",
    "        \n",
    "        # Store the data put inside the block\n",
    "        self.data = data\n",
    "        \n",
    "        # Store the encoded cryptographic label from previous block\n",
    "        self.prev_block_hash = previous_block_hash\n",
    "        \n",
    "        # Calculate the cryptography for the current block\n",
    "        self.hash = hashlib.sha256(self.to_string().encode()).hexdigest()\n",
    "        \n",
    "        # Recalculate the cryptography to Proof-of-Work (PoW)\n",
    "        self.calculate_valid_hash()\n",
    "        \n",
    "        self.conformity_ledger = ConformityLedger(first_hash, user_public_key, evaluation)\n",
    "                \n",
    "    def to_string(self):\n",
    "        \n",
    "        # Return the block specificity:string containing data + timestamp + prev. encryptation\n",
    "        return \"{}\\t{}\\t{}\".format(self.data, self.timestamp, self.prev_block_hash)\n",
    "    \n",
    "    def is_hash_valid(self, _hash):\n",
    "        \n",
    "        # Return if the recalculated encryptation is valid (PoW)\n",
    "        return (_hash.startswith('0'*3))\n",
    "    \n",
    "    def calculate_valid_hash(self):\n",
    "        \n",
    "        # Initialize a empty string as a encrypted label\n",
    "        _hash = ''\n",
    "        \n",
    "        # Initialize a bit-like disturbance over the created cryptography\n",
    "        nonce = 0\n",
    "        \n",
    "        while (not self.is_hash_valid(_hash)):\n",
    "            \n",
    "            # Store a temporary variable with the block specific string \n",
    "            # (data + timestamp + prev. encryptation) and add the bit-like disturbance\n",
    "            temp = self.to_string() + str(nonce)\n",
    "            #print(temp)\n",
    "            \n",
    "            # Recalculate the cryptography considering the bit-like disturbance\n",
    "            _hash = hashlib.sha256(temp.encode()).hexdigest()\n",
    "            \n",
    "            # Increment bit-like the disturbance\n",
    "            nonce += 1\n",
    "            \n",
    "        # Once done, store the current block's cryptographic label \n",
    "        self.hash = _hash\n",
    "        \n",
    "        # Store the nonce as static to be easily accessed\n",
    "        self.nonce = nonce\n",
    "\n",
    "        ##################\n",
    "        \n",
    "    def conf_ledger_to_string(self):\n",
    "        return \" \".join(self.conformity_ledger)\n",
    "    \n",
    "    \n",
    "    def add_evaluation_to_conf_ledger(self, first_hash, user_public_key, evaluation):\n",
    "        self.timestamp = datetime.utcnow()\n",
    "        \n",
    "        self.hash = hashlib.sha256(self.to_string().encode()).hexdigest()\n",
    "\n",
    "\n",
    "        \n",
    "\n",
    "        self.conformity_ledger.append(\n",
    "            {\n",
    "                \"user_public_key\": user_public_key,\n",
    "                \"evaluation\": evaluation\n",
    "            }\n",
    "        )"
   ]
  },
  {
   "cell_type": "code",
   "execution_count": null,
   "metadata": {},
   "outputs": [],
   "source": [
    "class ConformityLedger():\n",
    "    def __init__(self, owner_public_key, block_hash):\n",
    "        \n",
    "        # Initialize the blockchain as a array\n",
    "        self.conformity_ledger = []\n",
    "        \n",
    "        self.owner_public_key = owner_public_key\n",
    "        \n",
    "        self.block_hash = block_hash\n",
    "        \n",
    "        # Place the first block inside the blockchain\n",
    "        self.set_genesis_block()\n",
    "        \n",
    "    def set_genesis_block(self):\n",
    "        \n",
    "        # Generate the data from the first block\n",
    "        data = {\n",
    "            \"user_public_key\": self.user_public_key,\n",
    "            \"evaluation\": 0\n",
    "        }\n",
    "        \n",
    "        # Generate the first cryptogtaphic label (trivial)\n",
    "        prev_hash = block_hash\n",
    "        \n",
    "        # Generate a block container with: data + prev. encryptation\n",
    "        genesis_block = UserEvaluationBlock(data, prev_hash)\n",
    "        \n",
    "        # Add the block to the blockchain\n",
    "        self.conformity_ledger.append(genesis_block)\n",
    "\n",
    "    def get_last_hash(self):\n",
    "        \n",
    "        # Get the last block placed in the blockchain\n",
    "        last_block = self.conformity_ledger[-1]\n",
    "        \n",
    "        # Get the last encryption label\n",
    "        last_hash = last_block.hash\n",
    "        \n",
    "        # Return the last encrpytion label\n",
    "        return (last_hash)\n",
    "        \n",
    "    def add_new_block(self, data, evaluation):\n",
    "        \n",
    "        # Get the last encryption label (from the last block added to the blockchain)\n",
    "        prev_hash = self.get_last_hash()\n",
    "                \n",
    "        # Generate the block with the provided date\n",
    "        new_block = UserEvaluationBlock(data, prev_hash, evaluation)\n",
    "        \n",
    "        # Add the new block to the blockchain\n",
    "        self.conformity_ledger.append(new_block)\n",
    "        "
   ]
  },
  {
   "cell_type": "code",
   "execution_count": 56,
   "metadata": {},
   "outputs": [],
   "source": [
    "# Initialize a block to place within the blockchain\n",
    "\n",
    "# The created block must have:\n",
    "#     data (to be stored within the decentralized chain network)\n",
    "#     previous_block_hash (to be attached to to grant security)\n",
    "\n",
    "class Block():\n",
    "    def __init__(self, data, previous_block_hash, user_public_key, evaluation):\n",
    "        \n",
    "        # reserve the time stamp when the block is required to be created\n",
    "        self.timestamp = datetime.utcnow()\n",
    "        \n",
    "        # Store the data put inside the block\n",
    "        self.data = data\n",
    "        \n",
    "        # Store the encoded cryptographic label from previous block\n",
    "        self.prev_block_hash = previous_block_hash\n",
    "        \n",
    "        # Calculate the cryptography for the current block\n",
    "        self.hash = hashlib.sha256(self.to_string().encode()).hexdigest()\n",
    "        \n",
    "        # Recalculate the cryptography to Proof-of-Work (PoW)\n",
    "        self.calculate_valid_hash()\n",
    "        \n",
    "        self.conformity_ledger = ConformityLedger(first_hash, user_public_key, evaluation)\n",
    "                \n",
    "    def to_string(self):\n",
    "        \n",
    "        # Return the block specificity:string containing data + timestamp + prev. encryptation\n",
    "        return \"{}\\t{}\\t{}\".format(self.data, self.timestamp, self.prev_block_hash)\n",
    "    \n",
    "    def is_hash_valid(self, _hash):\n",
    "        \n",
    "        # Return if the recalculated encryptation is valid (PoW)\n",
    "        return (_hash.startswith('0'*3))\n",
    "    \n",
    "    def calculate_valid_hash(self):\n",
    "        \n",
    "        # Initialize a empty string as a encrypted label\n",
    "        _hash = ''\n",
    "        \n",
    "        # Initialize a bit-like disturbance over the created cryptography\n",
    "        nonce = 0\n",
    "        \n",
    "        while (not self.is_hash_valid(_hash)):\n",
    "            \n",
    "            # Store a temporary variable with the block specific string \n",
    "            # (data + timestamp + prev. encryptation) and add the bit-like disturbance\n",
    "            temp = self.to_string() + str(nonce)\n",
    "            #print(temp)\n",
    "            \n",
    "            # Recalculate the cryptography considering the bit-like disturbance\n",
    "            _hash = hashlib.sha256(temp.encode()).hexdigest()\n",
    "            \n",
    "            # Increment bit-like the disturbance\n",
    "            nonce += 1\n",
    "            \n",
    "        # Once done, store the current block's cryptographic label \n",
    "        self.hash = _hash\n",
    "        \n",
    "        # Store the nonce as static to be easily accessed\n",
    "        self.nonce = nonce\n",
    "        "
   ]
  },
  {
   "cell_type": "code",
   "execution_count": 57,
   "metadata": {},
   "outputs": [],
   "source": [
    "# Create a blockchain. The network enlacing the uploaded blocks\n",
    "# For each block, the blockchain stores:\n",
    "#     data, timestamp, cryptographic label\n",
    "\n",
    "class Blockchain():\n",
    "    def __init__(self):\n",
    "        \n",
    "        # Initialize the blockchain as a array\n",
    "        self.blocks = []\n",
    "        \n",
    "        # Place the first block inside the blockchain\n",
    "        self.set_genesis_block()\n",
    "        \n",
    "    def set_genesis_block(self):\n",
    "        \n",
    "        # Generate the data from the first block\n",
    "        data = 'Genesis Block'\n",
    "        \n",
    "        # Generate the first cryptogtaphic label (trivial)\n",
    "        prev_hash = '0'*64\n",
    "        \n",
    "        # Generate a block container with: data + prev. encryptation\n",
    "        genesis_block = Block(data, prev_hash)\n",
    "        \n",
    "        # Add the block to the blockchain\n",
    "        self.blocks.append(genesis_block)\n",
    "        \n",
    "    def get_last_hash(self):\n",
    "        \n",
    "        # Get the last block placed in the blockchain\n",
    "        last_block = self.blocks[-1]\n",
    "        \n",
    "        # Get the last encryption label\n",
    "        last_hash = last_block.hash\n",
    "        \n",
    "        # Return the last encrpytion label\n",
    "        return (last_hash)\n",
    "    \n",
    "    def add_new_block(self, data, evaluation):\n",
    "        \n",
    "        # Get the last encryption label (from the last block added to the blockchain)\n",
    "        prev_hash = self.get_last_hash()\n",
    "                \n",
    "        # Generate the block with the provided date\n",
    "        new_block = Block(data, prev_hash, evaluation)\n",
    "        \n",
    "        # Add the new block to the blockchain\n",
    "        self.blocks.append(new_block)\n",
    "        \n",
    "        \n",
    "        "
   ]
  },
  {
   "cell_type": "code",
   "execution_count": null,
   "metadata": {},
   "outputs": [],
   "source": []
  },
  {
   "cell_type": "code",
   "execution_count": null,
   "metadata": {},
   "outputs": [],
   "source": []
  },
  {
   "cell_type": "code",
   "execution_count": null,
   "metadata": {},
   "outputs": [],
   "source": []
  },
  {
   "cell_type": "code",
   "execution_count": null,
   "metadata": {},
   "outputs": [],
   "source": []
  },
  {
   "cell_type": "code",
   "execution_count": null,
   "metadata": {},
   "outputs": [],
   "source": []
  },
  {
   "cell_type": "markdown",
   "metadata": {},
   "source": [
    "## Understanding the Blockchain functioning"
   ]
  },
  {
   "cell_type": "code",
   "execution_count": 58,
   "metadata": {},
   "outputs": [],
   "source": [
    "blockchain = Blockchain()"
   ]
  },
  {
   "cell_type": "markdown",
   "metadata": {},
   "source": [
    "When we start our blockchain, we create a list containing one block, our 'Genesis' block. It contains the following:"
   ]
  },
  {
   "cell_type": "code",
   "execution_count": 11,
   "metadata": {},
   "outputs": [
    {
     "name": "stdout",
     "output_type": "stream",
     "text": [
      "Blockchain:\n",
      "\n",
      " Genesis\t2021-07-04 14:54:14.317985\t0000000000000000000000000000000000000000000000000000000000000000\n"
     ]
    }
   ],
   "source": [
    "blocks = blockchain.blocks\n",
    "print('Blockchain:\\n\\n', blocks[0].to_string())"
   ]
  },
  {
   "cell_type": "markdown",
   "metadata": {},
   "source": [
    "Those data represents the 'Data' the block contains, the 'Timestamp' the block was created and the 'Cryptography label' for the first added block. After that, we can added other blocks"
   ]
  },
  {
   "cell_type": "code",
   "execution_count": 12,
   "metadata": {},
   "outputs": [
    {
     "name": "stdout",
     "output_type": "stream",
     "text": [
      "Blockchain:\n",
      "\n",
      " Genesis\t2021-07-04 14:54:14.317985\t0000000000000000000000000000000000000000000000000000000000000000 \n",
      " First block\t2021-07-04 14:54:15.326893\t0009e7fe2578124dd8fb7cf67088cdb1ff501616e5a7ed1236e75ce780aeae24 \n",
      " Second block\t2021-07-04 14:54:15.348366\t00074521f83a32d82d8b9763c95d9d7f841ae8564af904d8ba36c14b7efba34c\n"
     ]
    }
   ],
   "source": [
    "blockchain.add_new_block('First block')\n",
    "blockchain.add_new_block('Second block')\n",
    "\n",
    "blocks = blockchain.blocks\n",
    "print('Blockchain:\\n\\n', blocks[0].to_string(), '\\n', \n",
    "                         blocks[1].to_string(), '\\n', \n",
    "                         blocks[2].to_string())"
   ]
  },
  {
   "cell_type": "markdown",
   "metadata": {},
   "source": [
    "On a blockchain with multiple users, simultaneous additions could be make and a multi-connected block would exist. However, here we are adding the blocks sequentially. Therefore \n",
    "\n",
    "- block 1 is created connected to block 0; \n",
    "- block 2 is created connected to block 1; \n",
    "- block 3 is created connected to block 2; \n",
    "- and so on.\n",
    "\n",
    "to perform the connection, the first block's encryption must depends on the cryptographic label from the 'Genesis' block. The link is created as follow:\n",
    "\n",
    "1. define a cryptographic function that will be used by the Blockchain. Here we use sha256;\n",
    "2. the function must convert some input string into some encoded string. Here the encoded is a string with 64 spaces for {0-9, a-z} combination;\n",
    "3. the input string must contain at least the previous block's cryptographic label. Here we combine data + timestamp + cryptographic label and use this new string to generate the encoded label for the new added blocimpor\n",
    "4. to encourage the blockchain integrity, a consensus protocol must be added. Here we use the Proof-of-Work (PoW) algorithm. It makes the block creation a dispendious task, though rewarded\n",
    "\n",
    "The Proof-of-Work (PoW) consensus protocol used here add an incremental number to the end of the input string and only accept the new block if the generated cryptographic label starts with '000'.\n",
    "\n",
    "We know that"
   ]
  },
  {
   "cell_type": "code",
   "execution_count": 13,
   "metadata": {},
   "outputs": [
    {
     "name": "stdout",
     "output_type": "stream",
     "text": [
      "Genesis\t2021-07-04 14:54:14.317985\t0000000000000000000000000000000000000000000000000000000000000000\n"
     ]
    }
   ],
   "source": [
    "print(blocks[0].to_string())"
   ]
  },
  {
   "cell_type": "markdown",
   "metadata": {},
   "source": [
    "are the three elements we use to encode the next block's label. So we expect that using these elements alone suffices to generate the 'First block' cryptographic label. We can call it 'raw encoded label'"
   ]
  },
  {
   "cell_type": "code",
   "execution_count": 14,
   "metadata": {},
   "outputs": [
    {
     "name": "stdout",
     "output_type": "stream",
     "text": [
      "Raw encoded label for the First block:\n",
      "\n",
      " f85fe689d2c047c9323a5bff882d404d25ea89861910f1c1aff1c73f9adcdf39\n"
     ]
    }
   ],
   "source": [
    "encoded_label = hashlib.sha256(blocks[0].to_string().encode()).hexdigest()\n",
    "print('Raw encoded label for the First block:\\n\\n', encoded_label)"
   ]
  },
  {
   "cell_type": "markdown",
   "metadata": {},
   "source": [
    "However we can see that the real encoded label is different"
   ]
  },
  {
   "cell_type": "code",
   "execution_count": 15,
   "metadata": {},
   "outputs": [
    {
     "name": "stdout",
     "output_type": "stream",
     "text": [
      "First block\t2021-07-04 14:54:15.326893\t0009e7fe2578124dd8fb7cf67088cdb1ff501616e5a7ed1236e75ce780aeae24\n"
     ]
    }
   ],
   "source": [
    "print(blocks[1].to_string())"
   ]
  },
  {
   "cell_type": "markdown",
   "metadata": {},
   "source": [
    "In order to generate the Proof-of-Work (PoW), we actually need a 'nonce', which is the number we add to the end of the string to validate the new block.\n",
    "\n",
    "We can get the nonce from the 'Genesis' block "
   ]
  },
  {
   "cell_type": "code",
   "execution_count": 16,
   "metadata": {},
   "outputs": [
    {
     "name": "stdout",
     "output_type": "stream",
     "text": [
      "Genesis block:\n",
      "\n",
      " Nonce: 3542\n"
     ]
    }
   ],
   "source": [
    "print(\"Genesis block:\\n\\n\",'Nonce:', blocks[0].nonce)"
   ]
  },
  {
   "cell_type": "code",
   "execution_count": 17,
   "metadata": {},
   "outputs": [
    {
     "name": "stdout",
     "output_type": "stream",
     "text": [
      "True string to encoded for the first block added:\n",
      "\n",
      " Genesis\t2021-07-04 14:54:14.317985\t00000000000000000000000000000000000000000000000000000000000000003541\n",
      "True encoded label for the First block:\n",
      "\n",
      " 0009e7fe2578124dd8fb7cf67088cdb1ff501616e5a7ed1236e75ce780aeae24\n"
     ]
    }
   ],
   "source": [
    "nonced_string = blocks[0].to_string() + str(blocks[0].nonce - 1) # The -1 is considered because the validation occurs\n",
    "                                                                 # after the unity increment\n",
    "print('True string to encoded for the first block added:\\n\\n', nonced_string)\n",
    "\n",
    "encoded_label = hashlib.sha256(nonced_string.encode()).hexdigest()\n",
    "print('True encoded label for the First block:\\n\\n', encoded_label)"
   ]
  },
  {
   "cell_type": "markdown",
   "metadata": {},
   "source": [
    "And we can see that this new encrypted label is the real label we have for the valid 'First block'"
   ]
  },
  {
   "cell_type": "code",
   "execution_count": 18,
   "metadata": {},
   "outputs": [
    {
     "name": "stdout",
     "output_type": "stream",
     "text": [
      "First block\t2021-07-04 14:54:15.326893\t0009e7fe2578124dd8fb7cf67088cdb1ff501616e5a7ed1236e75ce780aeae24\n"
     ]
    }
   ],
   "source": [
    "print(blocks[1].to_string())"
   ]
  },
  {
   "cell_type": "markdown",
   "metadata": {},
   "source": [
    "With the Proof-of-Work (PoW), new blocks are laboriously added, but this action is rewarded for miners (who spend money to mine blocks, earn money from the blockchain structure. For instance bitcoin) and the connections between blocks are strengthen and the data put into the blockchain is more valid for auditorship.[1]\n",
    "\n",
    "[1] For more information about PoW: https://www.frontiersin.org/articles/10.3389/fbloc.2020.00002/full"
   ]
  },
  {
   "cell_type": "markdown",
   "metadata": {},
   "source": [
    "# METRICS"
   ]
  },
  {
   "cell_type": "code",
   "execution_count": 286,
   "metadata": {},
   "outputs": [],
   "source": [
    "import numpy as np\n",
    "import matplotlib.pyplot as plt\n",
    "import random\n",
    "import string\n",
    "import seaborn as sns; sns.set_theme(color_codes=True)\n",
    "import pandas as pd"
   ]
  },
  {
   "cell_type": "code",
   "execution_count": 198,
   "metadata": {},
   "outputs": [],
   "source": [
    "blockchain = Blockchain()\n",
    "blocks = blockchain.blocks\n",
    "\n",
    "ALPHABET = np.array(list(string.ascii_lowercase + ' '))\n",
    "\n",
    "def generate_guess(sentence):\n",
    "    return ''.join(np.random.choice(ALPHABET, size=sentence))"
   ]
  },
  {
   "cell_type": "code",
   "execution_count": 273,
   "metadata": {},
   "outputs": [],
   "source": [
    "def generate_blocks(string_length):\n",
    "    blockchain = Blockchain()\n",
    "    blocks = blockchain.blocks\n",
    "    \n",
    "    diff_timestamp_sample = []\n",
    "    for i in range(10):\n",
    "        blockchain.add_new_block('{}'.format(generate_guess(string_length)))\n",
    "    #     print(blocks[i].to_string())\n",
    "        diff = float(blocks[i+1].to_string().split(\"\\t\")[1].split(':')[2]) - float(blocks[i].to_string().split(\"\\t\")[1].split(':')[2])\n",
    "        \n",
    "        if diff < 0:\n",
    "            i -= 1\n",
    "        else:\n",
    "            diff_timestamp_sample.append(diff)\n",
    "    \n",
    "    return np.mean(diff_timestamp_sample)"
   ]
  },
  {
   "cell_type": "code",
   "execution_count": 274,
   "metadata": {},
   "outputs": [],
   "source": [
    "diff_timestamps = []\n",
    "for i in range(0, 1000, 10):\n",
    "    a = generate_blocks(string_length=1)\n",
    "    diff_timestamps.append(a)"
   ]
  },
  {
   "cell_type": "code",
   "execution_count": 275,
   "metadata": {},
   "outputs": [
    {
     "data": {
      "text/plain": [
       "[<matplotlib.lines.Line2D at 0x7f04dc323d30>]"
      ]
     },
     "execution_count": 275,
     "metadata": {},
     "output_type": "execute_result"
    },
    {
     "data": {
      "image/png": "[encoded data removed]",
      "text/plain": [
       "<Figure size 432x288 with 1 Axes>"
      ]
     },
     "metadata": {
      "needs_background": "light"
     },
     "output_type": "display_data"
    }
   ],
   "source": [
    "plt.plot([i*10 for i in range(len(diff_timestamps))], diff_timestamps)"
   ]
  },
  {
   "cell_type": "code",
   "execution_count": 278,
   "metadata": {},
   "outputs": [],
   "source": [
    "base_line_stringlen_1 = ([i*10 for i in range(len(diff_timestamps))], diff_timestamps)"
   ]
  },
  {
   "cell_type": "code",
   "execution_count": 256,
   "metadata": {},
   "outputs": [],
   "source": [
    "diff_timestamps = []\n",
    "for i in range(100):\n",
    "    a = generate_blocks(string_length=10*i)\n",
    "    diff_timestamps.append(a)"
   ]
  },
  {
   "cell_type": "code",
   "execution_count": 259,
   "metadata": {},
   "outputs": [],
   "source": [
    "base_line_stringlen_10 = ([i*10 for i in range(len(diff_timestamps))], diff_timestamps)"
   ]
  },
  {
   "cell_type": "code",
   "execution_count": 306,
   "metadata": {},
   "outputs": [
    {
     "data": {
      "text/plain": [
       "[<matplotlib.lines.Line2D at 0x7f04d347efa0>]"
      ]
     },
     "execution_count": 306,
     "metadata": {},
     "output_type": "execute_result"
    },
    {
     "data": {
      "image/png": "[encoded data removed]",
      "text/plain": [
       "<Figure size 432x288 with 1 Axes>"
      ]
     },
     "metadata": {},
     "output_type": "display_data"
    }
   ],
   "source": [
    "plt.plot(base_line_stringlen_1[0],base_line_stringlen_1[1])\n",
    "plt.plot(base_line_stringlen_10[0],base_line_stringlen_10[1])"
   ]
  },
  {
   "cell_type": "code",
   "execution_count": 341,
   "metadata": {},
   "outputs": [
    {
     "data": {
      "image/png": "[encoded data removed]",
      "text/plain": [
       "<Figure size 576x432 with 1 Axes>"
      ]
     },
     "metadata": {},
     "output_type": "display_data"
    }
   ],
   "source": [
    "sns.set(rc={'axes.facecolor':'white', 'figure.facecolor':'white'})\n",
    "\n",
    "plt.figure(figsize=(8,6))\n",
    "sns.regplot(x=\"x\", y=\"y\", data=df1, scatter=False, label='Constante', line_kws={\"ls\": 'solid', \"color\":'k'});\n",
    "sns.regplot(x=\"x\", y=\"y\", data=df2, scatter=False, label=r'$Chain_i \\times 10$', line_kws={\"ls\": 'dotted', \"color\":'k'});\n",
    "plt.legend(loc='upper left', title=\"Tamanho do conteúdo de texto\")\n",
    "plt.xlabel(r'$Chain_i$')\n",
    "plt.ylabel('Tempo (ms)')\n",
    "plt.savefig(\"TimevsChaini.pdf\")\n",
    "plt.show()\n"
   ]
  },
  {
   "cell_type": "code",
   "execution_count": null,
   "metadata": {},
   "outputs": [],
   "source": []
  },
  {
   "cell_type": "code",
   "execution_count": null,
   "metadata": {},
   "outputs": [],
   "source": []
  }
 ],
 "metadata": {
  "kernelspec": {
   "display_name": "Python 3",
   "language": "python",
   "name": "python3"
  },
  "language_info": {
   "codemirror_mode": {
    "name": "ipython",
    "version": 3
   },
   "file_extension": ".py",
   "mimetype": "text/x-python",
   "name": "python",
   "nbconvert_exporter": "python",
   "pygments_lexer": "ipython3",
   "version": "3.8.5"
  }
 },
 "nbformat": 4,
 "nbformat_minor": 4
}
