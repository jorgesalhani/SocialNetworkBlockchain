{
 "cells": [
  {
   "cell_type": "markdown",
   "metadata": {},
   "source": [
    "# Criando uma Blockchain simples\n",
    "\n",
    "## Projeto de \"Tópicos especiais em sistemas de computação\"\n",
    "\n",
    "Seguindo o tutorial disponível em: https://levelup.gitconnected.com/creating-a-blockchain-from-scratch-9a7b123e1f3e"
   ]
  },
  {
   "cell_type": "markdown",
   "metadata": {},
   "source": [
    "Para entender o comportamento geral de uma blockchain simples, consideremos uma blockchaincomo uma base de dados. Por exemplo, podemos pensar que em um:\n",
    "- Formulário: queremos armazenar dados que fornecemos e buscamos quando necessário;\n",
    "- Blog: tal como o formulário, queremos fornecer, armazenar e buscar dados quando desejarmos;\n",
    "- Loja: como um meio de transações, queremos compartilhar dados (o produto em si, sua disponibilidade e preço) e queremos recuperar informações sobre pagamento e endereço do comprador;\n",
    "\n",
    "Com isso, consideremos um bloco (componentes de uma blockchain) como uma caixa de conteúdos que gerenciamos diretamente: os dados (ID do produto, disponibilidade e preço, se cosideramos uma loja) e uma data, por exemplo. Por último, ela deve conter um rótulo criptografico que será anexado para manter sua segurança."
   ]
  },
  {
   "cell_type": "code",
   "execution_count": 1,
   "metadata": {},
   "outputs": [],
   "source": [
    "from datetime import datetime\n",
    "import hashlib"
   ]
  },
  {
   "cell_type": "code",
   "execution_count": 2,
   "metadata": {},
   "outputs": [],
   "source": [
    "# Initialize a block to place within the blockchain\n",
    "\n",
    "# The created block must have:\n",
    "#     data (to be stored within the decentralized chain network)\n",
    "#     previous_block_hash (to be attached to to grant security)\n",
    "\n",
    "class Block():\n",
    "    def __init__(self, data, previous_block_hash):\n",
    "        \n",
    "        # reserve the time stamp when the block is required to be created\n",
    "        self.timestamp = datetime.utcnow()\n",
    "        \n",
    "        # Store the data put inside the block\n",
    "        self.data = data\n",
    "        \n",
    "        # Store the encoded cryptographic label from previous block\n",
    "        self.prev_block_hash = previous_block_hash\n",
    "        \n",
    "        # Calculate the cryptography for the current block\n",
    "        self.hash = hashlib.sha256(self.to_string().encode()).hexdigest()\n",
    "        \n",
    "        # Recalculate the cryptography to Proof-of-Work (PoW)\n",
    "        self.calculate_valid_hash()\n",
    "        \n",
    "    def to_string(self):\n",
    "        \n",
    "        # Return the block specificity:string containing data + timestamp + prev. encryptation\n",
    "        return \"{}\\t{}\\t{}\".format(self.data, self.timestamp, self.prev_block_hash)\n",
    "    \n",
    "    def is_hash_valid(self, _hash):\n",
    "        \n",
    "        # Return if the recalculated encryptation is valid (PoW)\n",
    "        return (_hash.startswith('0'*3))\n",
    "    \n",
    "    def calculate_valid_hash(self):\n",
    "        \n",
    "        # Initialize a empty string as a encrypted label\n",
    "        _hash = ''\n",
    "        \n",
    "        # Initialize a bit-like disturbance over the created cryptography\n",
    "        nonce = 0\n",
    "        \n",
    "        while (not self.is_hash_valid(_hash)):\n",
    "            \n",
    "            # Store a temporary variable with the block specific string \n",
    "            # (data + timestamp + prev. encryptation) and add the bit-like disturbance\n",
    "            temp = self.to_string() + str(nonce)\n",
    "            #print(temp)\n",
    "            \n",
    "            # Recalculate the cryptography considering the bit-like disturbance\n",
    "            _hash = hashlib.sha256(temp.encode()).hexdigest()\n",
    "            \n",
    "            # Increment bit-like the disturbance\n",
    "            nonce += 1\n",
    "            \n",
    "        # Once done, store the current block's cryptographic label \n",
    "        self.hash = _hash\n",
    "        \n",
    "        # Store the nonce as static to be easily accessed\n",
    "        self.nonce = nonce"
   ]
  },
  {
   "cell_type": "code",
   "execution_count": 3,
   "metadata": {},
   "outputs": [],
   "source": [
    "# Create a blockchain. The network enlacing the uploaded blocks\n",
    "# For each block, the blockchain stores:\n",
    "#     data, timestamp, cryptographic label\n",
    "\n",
    "class Blockchain():\n",
    "    def __init__(self):\n",
    "        \n",
    "        # Initialize the blockchain as a array\n",
    "        self.blocks = []\n",
    "        \n",
    "        # Place the first block inside the blockchain\n",
    "        self.set_genesis_block()\n",
    "        \n",
    "    def set_genesis_block(self):\n",
    "        \n",
    "        # Generate the data from the first block\n",
    "        data = 'Genesis'\n",
    "        \n",
    "        # Generate the first cryptogtaphic label (trivial)\n",
    "        prev_hash = '0'*64\n",
    "        \n",
    "        # Generate a block container with: data + prev. encryptation\n",
    "        genesis_block = Block(data, prev_hash)\n",
    "        \n",
    "        # Add the block to the blockchain\n",
    "        self.blocks.append(genesis_block)\n",
    "        \n",
    "    def get_last_hash(self):\n",
    "        \n",
    "        # Get the last block placed in the blockchain\n",
    "        last_block = self.blocks[-1]\n",
    "        \n",
    "        # Get the last encryption label\n",
    "        last_hash = last_block.hash\n",
    "        \n",
    "        # Return the last encrpytion label\n",
    "        return (last_hash)\n",
    "    \n",
    "    def add_new_block(self, data):\n",
    "        \n",
    "        # Get the last encryption label (from the last block added to the blockchain)\n",
    "        prev_hash = self.get_last_hash()\n",
    "        \n",
    "        # Generate the block with the provided date\n",
    "        new_block = Block(data, prev_hash)\n",
    "        \n",
    "        # Add the new block to the blockchain\n",
    "        self.blocks.append(new_block)\n",
    "        "
   ]
  },
  {
   "cell_type": "markdown",
   "metadata": {},
   "source": [
    "## Entendendo o funcionamento da Blockchain"
   ]
  },
  {
   "cell_type": "code",
   "execution_count": 4,
   "metadata": {},
   "outputs": [],
   "source": [
    "blockchain = Blockchain()"
   ]
  },
  {
   "cell_type": "markdown",
   "metadata": {},
   "source": [
    "Quando inicializamos nossa blockchain, criamos uma lista contendo um bloco, nosso bloco \"Genesis\". Ele contém o seguinte:"
   ]
  },
  {
   "cell_type": "code",
   "execution_count": 5,
   "metadata": {},
   "outputs": [
    {
     "name": "stdout",
     "output_type": "stream",
     "text": [
      "Blockchain:\n",
      "\n",
      " Genesis\t2021-05-06 21:52:08.475792\t0000000000000000000000000000000000000000000000000000000000000000\n"
     ]
    }
   ],
   "source": [
    "blocks = blockchain.blocks\n",
    "print('Blockchain:\\n\\n', blocks[0].to_string())"
   ]
  },
  {
   "cell_type": "markdown",
   "metadata": {},
   "source": [
    "Esses dados representam o \"Dado\" contido no bloco, a \"data\" de criação do bloco e seu \"rótulo criptográfico\". Depois disso, podemos adicionar outros blocos:"
   ]
  },
  {
   "cell_type": "code",
   "execution_count": 6,
   "metadata": {},
   "outputs": [
    {
     "name": "stdout",
     "output_type": "stream",
     "text": [
      "Blockchain:\n",
      "\n",
      " Genesis\t2021-05-06 21:52:08.475792\t0000000000000000000000000000000000000000000000000000000000000000 \n",
      " First block\t2021-05-06 21:54:38.789053\t000577464050f5ffef5ad044a27ae84a8733012130e1da3dd7c8533650f5f19a \n",
      " Second block\t2021-05-06 21:54:38.810896\t0006c82cba25702389eea429f6bab3012c87767eb2e3fec932c54535c694028a\n"
     ]
    }
   ],
   "source": [
    "blockchain.add_new_block('First block')\n",
    "blockchain.add_new_block('Second block')\n",
    "\n",
    "blocks = blockchain.blocks\n",
    "print('Blockchain:\\n\\n', blocks[0].to_string(), '\\n', \n",
    "                         blocks[1].to_string(), '\\n', \n",
    "                         blocks[2].to_string())"
   ]
  },
  {
   "cell_type": "markdown",
   "metadata": {},
   "source": [
    "Em um blockchain com múltiplos usuários, adições simultâneas poder ser feitas e blocos multi conectados podem existir. Entretanto, aqui estamos adicionando blocos sequencialmente. Logo:\n",
    "\n",
    "- bloco 1 é criado e conectado ao bloco 0;\n",
    "- bloco 2 é criado e conectado ao bloco 1;\n",
    "- bloco 3 é criado e conectado ao bloco 2;\n",
    "- e assim por diante.\n",
    "\n",
    "Para executar a conexão, o a encriptação do primeiro bloco deve depender do rótulo criptográfico do 'Genesis'. Aligação é feita da seguinte forma:\n",
    "\n",
    "1. definir uma função criptográfica que será usada no Blockchain. Aqui usamos sha256;\n",
    "2. a função deve converter alguma entrada de texto em um texto criptografado. Aqui codificamos uma sequência com 64 espaços para combinações de {0-9, a-z};\n",
    "3. o texto de entrada deve conter pelo menos o rótulo criptográfico do bloco anterior. Aqui combinamos 'dado' + 'data' + 'rótulo criptográfico' e usamos esse novo texto para gerar um rótulo codificado para o bloco adicionado;\n",
    "4. encoragar a integridade da blockchain utilizando um protocolo de consenso. Aqui utilizamos algoritmo de Proof-of-Work (PoW) ou Prova-de-Trabalho (PdT). Isso faz da criação de blocos uma tarefa custosa, porém recompensada financeiramente.\n",
    "\n",
    "On a blockchain with multiple users, simultaneous additions could be make and a multi-connected block would exist. However, here we are adding the blocks sequentially. Therefore \n",
    "\n",
    "- block 1 is created connected to block 0; \n",
    "- block 2 is created connected to block 1; \n",
    "- block 3 is created connected to block 2; \n",
    "- and so on.\n",
    "\n",
    "O protocolo de consenso Proof-of-Work (PoW) usado aqui adiciona um número incremental ao fim da entrada de texto e apenas aceita um novo bloco caso o rótulo criptográfico gerado comece com '000'.\n",
    "\n",
    "Por exemplo, sabemos que o bloco 'Genesis' Apresenta as seguintes marcações:"
   ]
  },
  {
   "cell_type": "code",
   "execution_count": 7,
   "metadata": {},
   "outputs": [
    {
     "name": "stdout",
     "output_type": "stream",
     "text": [
      "Genesis\t2021-05-06 21:52:08.475792\t0000000000000000000000000000000000000000000000000000000000000000\n"
     ]
    }
   ],
   "source": [
    "print(blocks[0].to_string())"
   ]
  },
  {
   "cell_type": "markdown",
   "metadata": {},
   "source": [
    "Assim, esperamos que ao usar estes três elementos somente seja suficiente para gerar o rótulo criptográfico do primeiro bloco 'First block'. Vamos chamar esse rótulo de 'raw encoded label', ou 'rótulo codificado cru'"
   ]
  },
  {
   "cell_type": "code",
   "execution_count": 8,
   "metadata": {},
   "outputs": [
    {
     "name": "stdout",
     "output_type": "stream",
     "text": [
      "Raw encoded label for the First block:\n",
      "\n",
      " 58deb91497e4b485a6acd0279ef0524a66a67839612be4367fc324eee227c896\n"
     ]
    }
   ],
   "source": [
    "encoded_label = hashlib.sha256(blocks[0].to_string().encode()).hexdigest()\n",
    "print('Raw encoded label for the First block:\\n\\n', encoded_label)"
   ]
  },
  {
   "cell_type": "markdown",
   "metadata": {},
   "source": [
    "Veja que o rótulo real é diferente:"
   ]
  },
  {
   "cell_type": "code",
   "execution_count": 9,
   "metadata": {},
   "outputs": [
    {
     "name": "stdout",
     "output_type": "stream",
     "text": [
      "First block\t2021-05-06 21:54:38.789053\t000577464050f5ffef5ad044a27ae84a8733012130e1da3dd7c8533650f5f19a\n"
     ]
    }
   ],
   "source": [
    "print(blocks[1].to_string())"
   ]
  },
  {
   "cell_type": "markdown",
   "metadata": {},
   "source": [
    "Para gerar considerar o protocolo de consenso por Proof-of-Work (PoW), na verdade precisamos de um mensageiro (ou núncio, vindo da palavra 'nonce') que carregue um número incremental que será adicionado várias vezes ao final do texto de entrada para validar o novo bloco\n",
    "\n",
    "Podemos pegar o núncio do bloco 'Genesis':"
   ]
  },
  {
   "cell_type": "code",
   "execution_count": 10,
   "metadata": {},
   "outputs": [
    {
     "name": "stdout",
     "output_type": "stream",
     "text": [
      "Genesis block:\n",
      "\n",
      " Nonce: 53\n"
     ]
    }
   ],
   "source": [
    "print(\"Genesis block:\\n\\n\",'Nonce:', blocks[0].nonce)"
   ]
  },
  {
   "cell_type": "markdown",
   "metadata": {},
   "source": [
    "Sabemos então que no texto original incrementamos o valor 52 (o primeiro incremento é 0). Logo temos que"
   ]
  },
  {
   "cell_type": "code",
   "execution_count": 13,
   "metadata": {},
   "outputs": [
    {
     "name": "stdout",
     "output_type": "stream",
     "text": [
      "Nonce string:\n",
      "\n",
      " Genesis\t2021-05-06 21:52:08.475792\t000000000000000000000000000000000000000000000000000000000000000052\n"
     ]
    }
   ],
   "source": [
    "nonced_string = blocks[0].to_string() + str(blocks[0].nonce - 1)\n",
    "print('Nonce string:\\n\\n', nonced_string)"
   ]
  },
  {
   "cell_type": "markdown",
   "metadata": {},
   "source": [
    "é o rótulo criptográfico real que utilizamos para criar o próximo bloco 'First block'"
   ]
  },
  {
   "cell_type": "code",
   "execution_count": 15,
   "metadata": {},
   "outputs": [
    {
     "name": "stdout",
     "output_type": "stream",
     "text": [
      "True string to encoded for the first block added:\n",
      "\n",
      " Genesis\t2021-05-06 21:52:08.475792\t000000000000000000000000000000000000000000000000000000000000000052\n",
      "True encoded label for the First block:\n",
      "\n",
      " 000577464050f5ffef5ad044a27ae84a8733012130e1da3dd7c8533650f5f19a\n"
     ]
    }
   ],
   "source": [
    "nonced_string = blocks[0].to_string() + str(blocks[0].nonce - 1) # The -1 is considered because the validation occurs\n",
    "                                                                 # after the unity increment\n",
    "print('True string to encoded for the first block added:\\n\\n', nonced_string)\n",
    "\n",
    "encoded_label = hashlib.sha256(nonced_string.encode()).hexdigest()\n",
    "print('True encoded label for the First block:\\n\\n', encoded_label)"
   ]
  },
  {
   "cell_type": "markdown",
   "metadata": {},
   "source": [
    "E vemos que agora o rótulo real gerado a partir do rótulo do bloco 'Genesis' confere com o rótulo do 'First block'"
   ]
  },
  {
   "cell_type": "code",
   "execution_count": 16,
   "metadata": {},
   "outputs": [
    {
     "name": "stdout",
     "output_type": "stream",
     "text": [
      "First block\t2021-05-06 21:54:38.789053\t000577464050f5ffef5ad044a27ae84a8733012130e1da3dd7c8533650f5f19a\n"
     ]
    }
   ],
   "source": [
    "print(blocks[1].to_string())"
   ]
  },
  {
   "cell_type": "markdown",
   "metadata": {},
   "source": [
    "Com o protocolo de consenso Proof-of-Work (PoW), novos blocos são custosos para serem adicionados, mas essa ação recompensa mineradores (aqueles que investem dinheiro para minerar blocos e ganham dinheiro para manter a estrutura do blockchain. Por exemplo em bitcoins) e a conexão entre blocos é reforçada e os dados armazenados nos blocos são melhor validados por auditorias.[1]\n",
    "\n",
    "[1] Para mais informações sobre PoW: https://www.frontiersin.org/articles/10.3389/fbloc.2020.00002/full"
   ]
  }
 ],
 "metadata": {
  "kernelspec": {
   "display_name": "Python 3",
   "language": "python",
   "name": "python3"
  },
  "language_info": {
   "codemirror_mode": {
    "name": "ipython",
    "version": 3
   },
   "file_extension": ".py",
   "mimetype": "text/x-python",
   "name": "python",
   "nbconvert_exporter": "python",
   "pygments_lexer": "ipython3",
   "version": "3.8.5"
  }
 },
 "nbformat": 4,
 "nbformat_minor": 4
}
